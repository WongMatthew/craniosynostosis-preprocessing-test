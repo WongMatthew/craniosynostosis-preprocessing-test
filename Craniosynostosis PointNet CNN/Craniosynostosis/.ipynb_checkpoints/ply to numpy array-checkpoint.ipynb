{
 "cells": [
  {
   "cell_type": "code",
   "execution_count": 2,
   "id": "a794184c",
   "metadata": {},
   "outputs": [],
   "source": [
    "import numpy\n",
    "import open3d as o3d\n",
    "from plyfile import PlyData, PlyElement\n",
    "import numpy as np"
   ]
  },
  {
   "cell_type": "code",
   "execution_count": 3,
   "id": "a8d3731e",
   "metadata": {},
   "outputs": [
    {
     "data": {
      "text/plain": [
       "\"\\nplydata = PlyData.read('data\\\\instances_control\\\\inst_001.ply')\\nfor i in range(0, plydata.elements[0].count):\\n    data[i] = [plydata['vertex']['x'][i], plydata['vertex']['y'][i], plydata['vertex']['z'][i]]\\n\""
      ]
     },
     "execution_count": 3,
     "metadata": {},
     "output_type": "execute_result"
    }
   ],
   "source": [
    "'''\n",
    "plydata = PlyData.read('data\\instances_control\\inst_001.ply')\n",
    "for i in range(0, plydata.elements[0].count):\n",
    "    data[i] = [plydata['vertex']['x'][i], plydata['vertex']['y'][i], plydata['vertex']['z'][i]]\n",
    "'''"
   ]
  },
  {
   "cell_type": "code",
   "execution_count": 4,
   "id": "599c76db",
   "metadata": {},
   "outputs": [],
   "source": [
    "# Read .ply file\n",
    "input_file = \"data\\instances_control\\inst_001.ply\"\n",
    "pcd = o3d.io.read_point_cloud(input_file) # Read the point cloud\n",
    "\n",
    "# Visualize the point cloud within open3d\n",
    "o3d.visualization.draw_geometries([pcd]) \n",
    "\n",
    "# Convert open3d format to numpy array\n",
    "# Here, you have the point cloud in numpy format. \n",
    "point_cloud_in_numpy = np.asarray(pcd.points) "
   ]
  },
  {
   "cell_type": "code",
   "execution_count": 5,
   "id": "7fcdae35",
   "metadata": {},
   "outputs": [
    {
     "data": {
      "text/plain": [
       "array([[-65.17018127,  17.93083572,   2.50840259],\n",
       "       [-67.95219421,  20.13541794,  -4.00063086],\n",
       "       [-72.75547791,  25.30211639, -27.51113892],\n",
       "       ...,\n",
       "       [ 37.66835022,   1.63555372,  28.52712822],\n",
       "       [ 32.72903442,   1.35596061,  30.66774368],\n",
       "       [-16.55862427,   2.75448155,  33.0082016 ]])"
      ]
     },
     "execution_count": 5,
     "metadata": {},
     "output_type": "execute_result"
    }
   ],
   "source": [
    "point_cloud_in_numpy"
   ]
  },
  {
   "cell_type": "code",
   "execution_count": null,
   "id": "9b1eb189",
   "metadata": {},
   "outputs": [],
   "source": []
  }
 ],
 "metadata": {
  "kernelspec": {
   "display_name": "Python 3",
   "language": "python",
   "name": "python3"
  },
  "language_info": {
   "codemirror_mode": {
    "name": "ipython",
    "version": 3
   },
   "file_extension": ".py",
   "mimetype": "text/x-python",
   "name": "python",
   "nbconvert_exporter": "python",
   "pygments_lexer": "ipython3",
   "version": "3.8.8"
  }
 },
 "nbformat": 4,
 "nbformat_minor": 5
}
